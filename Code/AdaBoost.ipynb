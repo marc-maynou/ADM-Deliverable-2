{
  "nbformat": 4,
  "nbformat_minor": 0,
  "metadata": {
    "colab": {
      "name": "AdaBoost.ipynb",
      "provenance": [],
      "collapsed_sections": []
    },
    "kernelspec": {
      "name": "python3",
      "display_name": "Python 3"
    },
    "language_info": {
      "name": "python"
    }
  },
  "cells": [
    {
      "cell_type": "code",
      "execution_count": 2,
      "metadata": {
        "colab": {
          "base_uri": "https://localhost:8080/"
        },
        "id": "sBILYj62tQV3",
        "outputId": "bcb1db4b-cc55-4ef6-f484-19645fa940c5"
      },
      "outputs": [
        {
          "output_type": "stream",
          "name": "stdout",
          "text": [
            "Collecting category_encoders\n",
            "  Downloading category_encoders-2.4.0-py2.py3-none-any.whl (86 kB)\n",
            "\u001b[?25l\r\u001b[K     |███▉                            | 10 kB 19.7 MB/s eta 0:00:01\r\u001b[K     |███████▋                        | 20 kB 17.2 MB/s eta 0:00:01\r\u001b[K     |███████████▍                    | 30 kB 10.4 MB/s eta 0:00:01\r\u001b[K     |███████████████▏                | 40 kB 7.6 MB/s eta 0:00:01\r\u001b[K     |███████████████████             | 51 kB 3.9 MB/s eta 0:00:01\r\u001b[K     |██████████████████████▊         | 61 kB 4.6 MB/s eta 0:00:01\r\u001b[K     |██████████████████████████▌     | 71 kB 4.5 MB/s eta 0:00:01\r\u001b[K     |██████████████████████████████▎ | 81 kB 4.6 MB/s eta 0:00:01\r\u001b[K     |████████████████████████████████| 86 kB 2.6 MB/s \n",
            "\u001b[?25hRequirement already satisfied: patsy>=0.5.1 in /usr/local/lib/python3.7/dist-packages (from category_encoders) (0.5.2)\n",
            "Requirement already satisfied: scikit-learn>=0.20.0 in /usr/local/lib/python3.7/dist-packages (from category_encoders) (1.0.2)\n",
            "Requirement already satisfied: numpy>=1.14.0 in /usr/local/lib/python3.7/dist-packages (from category_encoders) (1.21.6)\n",
            "Requirement already satisfied: pandas>=0.21.1 in /usr/local/lib/python3.7/dist-packages (from category_encoders) (1.3.5)\n",
            "Requirement already satisfied: statsmodels>=0.9.0 in /usr/local/lib/python3.7/dist-packages (from category_encoders) (0.10.2)\n",
            "Requirement already satisfied: scipy>=1.0.0 in /usr/local/lib/python3.7/dist-packages (from category_encoders) (1.4.1)\n",
            "Requirement already satisfied: python-dateutil>=2.7.3 in /usr/local/lib/python3.7/dist-packages (from pandas>=0.21.1->category_encoders) (2.8.2)\n",
            "Requirement already satisfied: pytz>=2017.3 in /usr/local/lib/python3.7/dist-packages (from pandas>=0.21.1->category_encoders) (2022.1)\n",
            "Requirement already satisfied: six in /usr/local/lib/python3.7/dist-packages (from patsy>=0.5.1->category_encoders) (1.15.0)\n",
            "Requirement already satisfied: joblib>=0.11 in /usr/local/lib/python3.7/dist-packages (from scikit-learn>=0.20.0->category_encoders) (1.1.0)\n",
            "Requirement already satisfied: threadpoolctl>=2.0.0 in /usr/local/lib/python3.7/dist-packages (from scikit-learn>=0.20.0->category_encoders) (3.1.0)\n",
            "Installing collected packages: category-encoders\n",
            "Successfully installed category-encoders-2.4.0\n"
          ]
        },
        {
          "output_type": "stream",
          "name": "stderr",
          "text": [
            "/usr/local/lib/python3.7/dist-packages/statsmodels/tools/_testing.py:19: FutureWarning: pandas.util.testing is deprecated. Use the functions in the public API at pandas.testing instead.\n",
            "  import pandas.util.testing as tm\n"
          ]
        }
      ],
      "source": [
        "from sklearn.ensemble import AdaBoostClassifier\n",
        "from sklearn.ensemble import AdaBoostRegressor\n",
        "from sklearn.ensemble import RandomForestClassifier\n",
        "from sklearn.linear_model import RidgeClassifierCV\n",
        "from sklearn.linear_model import RANSACRegressor\n",
        "from sklearn.linear_model import Perceptron\n",
        "from sklearn.naive_bayes import MultinomialNB\n",
        "from sklearn.linear_model import LinearRegression\n",
        "from sklearn.linear_model import BayesianRidge\n",
        "from lightgbm import LGBMRegressor\n",
        "from sklearn import datasets\n",
        "from sklearn.model_selection import train_test_split\n",
        "from sklearn.model_selection import cross_val_score, KFold\n",
        "from sklearn import metrics\n",
        "from sklearn.preprocessing import RobustScaler\n",
        "from sklearn.svm import SVC\n",
        "from sklearn.metrics import r2_score\n",
        "import pandas as pd \n",
        "#!pip install --upgrade category_encoders\n",
        "import category_encoders as ce\n",
        "import xgboost as xgb\n",
        "from sklearn import svm\n",
        "from sklearn import tree"
      ]
    },
    {
      "cell_type": "markdown",
      "source": [
        "# AdaBoost Classifier"
      ],
      "metadata": {
        "id": "u3QoY85XIpQB"
      }
    },
    {
      "cell_type": "markdown",
      "source": [
        "## Iris"
      ],
      "metadata": {
        "id": "W5MjRsyZIth4"
      }
    },
    {
      "cell_type": "code",
      "source": [
        "# Load data\n",
        "data = '/content/Iris.csv'\n",
        "df = pd.read_csv(data, sep=',')\n",
        "\n",
        "X = df.drop(['Id','Species'], axis=1)\n",
        "y = df['Species']"
      ],
      "metadata": {
        "id": "ROKnrdF4tYC2"
      },
      "execution_count": null,
      "outputs": []
    },
    {
      "cell_type": "code",
      "source": [
        "# Split dataset into training set and test set\n",
        "X_train, X_test, y_train, y_test = train_test_split(X, y, test_size=0.3, random_state = 0)"
      ],
      "metadata": {
        "id": "4z4UVuuitftY"
      },
      "execution_count": null,
      "outputs": []
    },
    {
      "cell_type": "code",
      "source": [
        "# Create adaboost classifer object\n",
        "abc_decisionTree = AdaBoostClassifier(n_estimators=50, learning_rate=1, random_state=0)\n",
        "\n",
        "rcv = RidgeClassifierCV()\n",
        "abc_rcv = AdaBoostClassifier(n_estimators=50, base_estimator=rcv,learning_rate=1, random_state=0, algorithm='SAMME')\n",
        "\n",
        "mnb = MultinomialNB()\n",
        "abc_multiNB = AdaBoostClassifier(n_estimators=50, base_estimator=mnb,learning_rate=1, random_state=0)\n",
        "\n",
        "pct = Perceptron()\n",
        "abc_perceptron = AdaBoostClassifier(n_estimators=50, base_estimator=pct,learning_rate=1, random_state=0, algorithm='SAMME')\n",
        "\n",
        "# Train Adaboost Classifer\n",
        "model_decisionTree = abc_decisionTree.fit(X_train, y_train)\n",
        "model_rcv = abc_rcv.fit(X_train, y_train)\n",
        "model_multiNB = abc_multiNB.fit(X_train, y_train)\n",
        "model_perceptron = abc_perceptron.fit(X_train, y_train)\n",
        "#Predict the response for test dataset\n",
        "y_pred_decisionTree = model_decisionTree.predict(X_test)\n",
        "y_pred_rcv = model_rcv.predict(X_test)\n",
        "y_pred_multiNB = model_multiNB.predict(X_test)\n",
        "y_pred_perceptron = model_perceptron.predict(X_test)"
      ],
      "metadata": {
        "id": "Bx8cOrDptuAc"
      },
      "execution_count": null,
      "outputs": []
    },
    {
      "cell_type": "code",
      "source": [
        "# Model Accuracy, how often is the classifier correct?\n",
        "print(\"Accuracy decision tree:\",metrics.accuracy_score(y_test, y_pred_decisionTree))\n",
        "print(\"Accuracy ridge classifier cv:\",metrics.accuracy_score(y_test, y_pred_rcv))\n",
        "print(\"Accuracy multinomial naive bayes:\",metrics.accuracy_score(y_test, y_pred_multiNB))\n",
        "print(\"Accuracy perceptron:\",metrics.accuracy_score(y_test, y_pred_perceptron))"
      ],
      "metadata": {
        "colab": {
          "base_uri": "https://localhost:8080/"
        },
        "id": "f1x9GYQruBH5",
        "outputId": "0a74391a-0d1a-482a-8c91-e98eb948b055"
      },
      "execution_count": null,
      "outputs": [
        {
          "output_type": "stream",
          "name": "stdout",
          "text": [
            "Accuracy decision tree: 0.9111111111111111\n",
            "Accuracy ridge classifier cv: 0.8888888888888888\n",
            "Accuracy multinomial naive bayes: 0.7777777777777778\n",
            "Accuracy prceptron: 0.9333333333333333\n"
          ]
        }
      ]
    },
    {
      "cell_type": "markdown",
      "source": [
        "## Mushrooms"
      ],
      "metadata": {
        "id": "eWHU7utIIwiT"
      }
    },
    {
      "cell_type": "code",
      "source": [
        "# Load data\n",
        "data = '/content/mushrooms.csv'\n",
        "df = pd.read_csv(data, sep=',')\n",
        "\n",
        "X = df.drop(['class'], axis=1)\n",
        "y = df['class']\n",
        "col = ['cap-shape', 'cap-surface', 'cap-color', 'bruises', 'odor',\n",
        "       'gill-attachment', 'gill-spacing', 'gill-size', 'gill-color',\n",
        "       'stalk-shape', 'stalk-root', 'stalk-surface-above-ring',\n",
        "       'stalk-surface-below-ring', 'stalk-color-above-ring',\n",
        "       'stalk-color-below-ring', 'veil-type', 'veil-color', 'ring-number',\n",
        "       'ring-type', 'spore-print-color', 'population', 'habitat']"
      ],
      "metadata": {
        "id": "jojR_-vCFet-"
      },
      "execution_count": 23,
      "outputs": []
    },
    {
      "cell_type": "code",
      "source": [
        "# Split dataset into training set and test set\n",
        "X_train, X_test, y_train, y_test = train_test_split(X, y, test_size=0.3, random_state = 0)"
      ],
      "metadata": {
        "id": "xZbYmFw-Fet-"
      },
      "execution_count": 24,
      "outputs": []
    },
    {
      "cell_type": "code",
      "source": [
        "encoder = ce.OneHotEncoder(cols=col)\n",
        "X_train = encoder.fit_transform(X_train)\n",
        "X_test = encoder.transform(X_test)"
      ],
      "metadata": {
        "id": "oO1UWzLwHhS3"
      },
      "execution_count": 25,
      "outputs": []
    },
    {
      "cell_type": "code",
      "source": [
        "# Create adaboost classifer object\n",
        "abc_decisionTree = AdaBoostClassifier(n_estimators=50, learning_rate=1, random_state=0)\n",
        "\n",
        "rcv = RidgeClassifierCV()\n",
        "abc_rcv = AdaBoostClassifier(n_estimators=50, base_estimator=rcv,learning_rate=1, random_state=0, algorithm='SAMME')\n",
        "\n",
        "mnb = MultinomialNB()\n",
        "abc_multiNB = AdaBoostClassifier(n_estimators=50, base_estimator=mnb,learning_rate=1, random_state=0)\n",
        "\n",
        "pct = Perceptron()\n",
        "abc_perceptron = AdaBoostClassifier(n_estimators=50, base_estimator=pct,learning_rate=1, random_state=0, algorithm='SAMME')\n",
        "\n",
        "# Train Adaboost Classifer\n",
        "model_decisionTree = abc_decisionTree.fit(X_train, y_train)\n",
        "model_rcv = abc_rcv.fit(X_train, y_train)\n",
        "model_multiNB = abc_multiNB.fit(X_train, y_train)\n",
        "model_perceptron = abc_perceptron.fit(X_train, y_train)\n",
        "#Predict the response for test dataset\n",
        "y_pred_decisionTree = model_decisionTree.predict(X_test)\n",
        "y_pred_rcv = model_rcv.predict(X_test)\n",
        "y_pred_multiNB = model_multiNB.predict(X_test)\n",
        "y_pred_perceptron = model_perceptron.predict(X_test)"
      ],
      "metadata": {
        "id": "tg1f-HlogCUM"
      },
      "execution_count": 26,
      "outputs": []
    },
    {
      "cell_type": "code",
      "source": [
        "# Model Accuracy, how often is the classifier correct?\n",
        "print(\"Accuracy decision tree:\",metrics.accuracy_score(y_test, y_pred_decisionTree))\n",
        "print(\"Accuracy ridge classifier cv:\",metrics.accuracy_score(y_test, y_pred_rcv))\n",
        "print(\"Accuracy multinomial naive bayes:\",metrics.accuracy_score(y_test, y_pred_multiNB))\n",
        "print(\"Accuracy prceptron:\",metrics.accuracy_score(y_test, y_pred_perceptron))"
      ],
      "metadata": {
        "colab": {
          "base_uri": "https://localhost:8080/"
        },
        "outputId": "3c12f57d-e918-4914-a1c6-542dd54e3adc",
        "id": "z2nYyHV9gCUN"
      },
      "execution_count": 27,
      "outputs": [
        {
          "output_type": "stream",
          "name": "stdout",
          "text": [
            "Accuracy decision tree: 1.0\n",
            "Accuracy ridge classifier cv: 1.0\n",
            "Accuracy multinomial naive bayes: 0.9774405250205086\n",
            "Accuracy prceptron: 1.0\n"
          ]
        }
      ]
    },
    {
      "cell_type": "markdown",
      "source": [
        "## Diamonds"
      ],
      "metadata": {
        "id": "YVawtcVUY0d5"
      }
    },
    {
      "cell_type": "code",
      "source": [
        "# Load data\n",
        "data = '/content/diamonds.csv'\n",
        "df = pd.read_csv(data, sep=',')\n",
        "\n",
        "X = df.drop(['Unnamed: 0','cut'], axis=1)\n",
        "y = df['cut']"
      ],
      "metadata": {
        "id": "K3QTci0cYaeY"
      },
      "execution_count": null,
      "outputs": []
    },
    {
      "cell_type": "code",
      "source": [
        "# Split dataset into training set and test set\n",
        "X_train, X_test, y_train, y_test = train_test_split(X, y, test_size=0.3, random_state = 0)"
      ],
      "metadata": {
        "id": "xHzYQ3dNYxnz"
      },
      "execution_count": null,
      "outputs": []
    },
    {
      "cell_type": "code",
      "source": [
        "encoder = ce.OneHotEncoder(cols=['color','clarity'])\n",
        "X_train = encoder.fit_transform(X_train)\n",
        "X_test = encoder.transform(X_test)"
      ],
      "metadata": {
        "id": "ujCOrlvRYgiz"
      },
      "execution_count": null,
      "outputs": []
    },
    {
      "cell_type": "code",
      "source": [
        "# Create adaboost classifer object\n",
        "abc_decisionTree = AdaBoostClassifier(n_estimators=50, learning_rate=1, random_state=0)\n",
        "\n",
        "rcv = RidgeClassifierCV()\n",
        "abc_rcv = AdaBoostClassifier(n_estimators=50, base_estimator=rcv,learning_rate=1, random_state=0, algorithm='SAMME')\n",
        "\n",
        "mnb = MultinomialNB()\n",
        "abc_multiNB = AdaBoostClassifier(n_estimators=50, base_estimator=mnb,learning_rate=1, random_state=0)\n",
        "\n",
        "pct = Perceptron()\n",
        "abc_perceptron = AdaBoostClassifier(n_estimators=50, base_estimator=pct,learning_rate=1, random_state=0, algorithm='SAMME')\n",
        "\n",
        "# Train Adaboost Classifer\n",
        "model_decisionTree = abc_decisionTree.fit(X_train, y_train)\n",
        "model_rcv = abc_rcv.fit(X_train, y_train)\n",
        "model_multiNB = abc_multiNB.fit(X_train, y_train)\n",
        "model_perceptron = abc_perceptron.fit(X_train, y_train)\n",
        "#Predict the response for test dataset\n",
        "y_pred_decisionTree = model_decisionTree.predict(X_test)\n",
        "y_pred_rcv = model_rcv.predict(X_test)\n",
        "y_pred_multiNB = model_multiNB.predict(X_test)\n",
        "y_pred_perceptron = model_perceptron.predict(X_test)"
      ],
      "metadata": {
        "id": "WUTBsPeZgOpT"
      },
      "execution_count": null,
      "outputs": []
    },
    {
      "cell_type": "code",
      "source": [
        "# Model Accuracy, how often is the classifier correct?\n",
        "print(\"Accuracy decision tree:\",metrics.accuracy_score(y_test, y_pred_decisionTree))\n",
        "print(\"Accuracy ridge classifier cv:\",metrics.accuracy_score(y_test, y_pred_rcv))\n",
        "print(\"Accuracy multinomial naive bayes:\",metrics.accuracy_score(y_test, y_pred_multiNB))\n",
        "print(\"Accuracy perceptron:\",metrics.accuracy_score(y_test, y_pred_perceptron))"
      ],
      "metadata": {
        "colab": {
          "base_uri": "https://localhost:8080/"
        },
        "outputId": "dfce05bb-25d8-467e-f894-300a85e9fa0b",
        "id": "cPxH7tC2gOpU"
      },
      "execution_count": null,
      "outputs": [
        {
          "output_type": "stream",
          "name": "stdout",
          "text": [
            "Accuracy decision tree: 0.6811889754047707\n",
            "Accuracy ridge classifier cv: 0.5195896675318254\n",
            "Accuracy multinomial naive bayes: 0.2057224076133976\n",
            "Accuracy prceptron: 0.3970461006056112\n"
          ]
        }
      ]
    },
    {
      "cell_type": "markdown",
      "source": [
        "# AdaBoost Regression"
      ],
      "metadata": {
        "id": "KrTlp_qb5L7A"
      }
    },
    {
      "cell_type": "markdown",
      "source": [
        "## Diamonds"
      ],
      "metadata": {
        "id": "Aio4-xdgimRM"
      }
    },
    {
      "cell_type": "code",
      "source": [
        "# Load data\n",
        "data = '/content/diamonds.csv'\n",
        "df = pd.read_csv(data, sep=',')\n",
        "\n",
        "X = df.drop(['Unnamed: 0','price'], axis=1)\n",
        "y = df['price']"
      ],
      "metadata": {
        "id": "-yhsIrED5OAy"
      },
      "execution_count": null,
      "outputs": []
    },
    {
      "cell_type": "code",
      "source": [
        "# Split dataset into training set and test set\n",
        "X_train, X_test, y_train, y_test = train_test_split(X, y, test_size=0.3, random_state = 0)"
      ],
      "metadata": {
        "id": "17doA-3l7BYB"
      },
      "execution_count": null,
      "outputs": []
    },
    {
      "cell_type": "code",
      "source": [
        "encoder = ce.OneHotEncoder(cols=['cut','color','clarity'])\n",
        "X_train = encoder.fit_transform(X_train)\n",
        "X_test = encoder.transform(X_test)"
      ],
      "metadata": {
        "id": "_36pqnCOZi0-"
      },
      "execution_count": null,
      "outputs": []
    },
    {
      "cell_type": "code",
      "source": [
        "# Create adaboost classifer object\n",
        "abr_decisionTree = AdaBoostRegressor(n_estimators=50, learning_rate=1)\n",
        "\n",
        "lr = LinearRegression()\n",
        "abr_linearRegression = AdaBoostRegressor(n_estimators=50, base_estimator=lr, random_state=0, learning_rate=1)\n",
        "\n",
        "rac = RANSACRegressor()\n",
        "abr_ransac = AdaBoostRegressor(n_estimators=50, base_estimator=rac, random_state=0, learning_rate=1)\n",
        "\n",
        "lgbm = LGBMRegressor()\n",
        "abr_lgbm = AdaBoostRegressor(n_estimators=50, base_estimator=lgbm, random_state=0, learning_rate=1)\n",
        "\n",
        "brr = BayesianRidge()\n",
        "abr_bayesianRidge = AdaBoostRegressor(n_estimators=50, base_estimator=brr, random_state=0, learning_rate=1)\n",
        "\n",
        "# Train Adaboost Classifer\n",
        "model_decisionTree = abr_decisionTree.fit(X_train, y_train)\n",
        "model_linearRegression = abr_linearRegression.fit(X_train, y_train)\n",
        "model_ransac = abr_ransac.fit(X_train, y_train)\n",
        "model_lgbm = abr_lgbm.fit(X_train, y_train)\n",
        "model_bayesianRidge = abr_bayesianRidge.fit(X_train, y_train)\n",
        "#Predict the response for test dataset\n",
        "y_pred_decisionTree = model_decisionTree.predict(X_test)\n",
        "y_pred_linearRegression = model_linearRegression.predict(X_test)\n",
        "y_pred_ransac = model_ransac.predict(X_test)\n",
        "y_pred_lgbm = model_lgbm.predict(X_test)\n",
        "y_pred_bayesianRidge = model_bayesianRidge.predict(X_test)"
      ],
      "metadata": {
        "id": "c-QMnXzV7EUi"
      },
      "execution_count": null,
      "outputs": []
    },
    {
      "cell_type": "code",
      "source": [
        "# Model Accuracy, how often is the classifier correct?\n",
        "print(\"R2 for decision trees:\", r2_score(y_test,y_pred_decisionTree))\n",
        "print(\"R2 for lienar regression:\", r2_score(y_test,y_pred_linearRegression))\n",
        "print(\"R2 for ransac:\", r2_score(y_test,y_pred_ransac))\n",
        "print(\"R2 for lgbm:\", r2_score(y_test,y_pred_lgbm))\n",
        "print(\"R2 for bayeasian ridge:\", r2_score(y_test,y_pred_bayesianRidge))"
      ],
      "metadata": {
        "colab": {
          "base_uri": "https://localhost:8080/"
        },
        "id": "lEizNg2X7qIl",
        "outputId": "cfee555d-e832-4949-d0ab-1cdb2386f1cf"
      },
      "execution_count": null,
      "outputs": [
        {
          "output_type": "stream",
          "name": "stdout",
          "text": [
            "R2 for decision trees: 0.8670122230914314\n",
            "R2 for lienar regression: 0.8875817204748557\n",
            "R2 for ransac: 0.8685698631723925\n",
            "R2 for lgbm: 0.9782828668607114\n",
            "R2 for bayeasian ridge: 0.8854155820148111\n"
          ]
        }
      ]
    },
    {
      "cell_type": "markdown",
      "source": [
        "## KC House data"
      ],
      "metadata": {
        "id": "3owAEjUQbNHr"
      }
    },
    {
      "cell_type": "code",
      "source": [
        "# Load data\n",
        "data = '/content/kc_house_data.csv'\n",
        "df = pd.read_csv(data, sep=',')\n",
        "\n",
        "X = df.drop(['price','id','date'], axis=1)\n",
        "y = df['price']"
      ],
      "metadata": {
        "id": "1Aag5NJIbMao"
      },
      "execution_count": null,
      "outputs": []
    },
    {
      "cell_type": "code",
      "source": [
        "# Split dataset into training set and test set\n",
        "X_train, X_test, y_train, y_test = train_test_split(X, y, test_size=0.3, random_state = 0)"
      ],
      "metadata": {
        "id": "XXN9_ElabMap"
      },
      "execution_count": null,
      "outputs": []
    },
    {
      "cell_type": "code",
      "source": [
        "# Create adaboost classifer object\n",
        "abr_decisionTree = AdaBoostRegressor(n_estimators=50, learning_rate=1)\n",
        "\n",
        "lr = LinearRegression()\n",
        "abr_linearRegression = AdaBoostRegressor(n_estimators=50, base_estimator=lr, random_state=0, learning_rate=1)\n",
        "\n",
        "rac = RANSACRegressor()\n",
        "abr_ransac = AdaBoostRegressor(n_estimators=50, base_estimator=rac, random_state=0, learning_rate=1)\n",
        "\n",
        "lgbm = LGBMRegressor()\n",
        "abr_lgbm = AdaBoostRegressor(n_estimators=50, base_estimator=lgbm, random_state=0, learning_rate=1)\n",
        "\n",
        "brr = BayesianRidge()\n",
        "abr_bayesianRidge = AdaBoostRegressor(n_estimators=50, base_estimator=brr, random_state=0, learning_rate=1)\n",
        "\n",
        "# Train Adaboost Classifer\n",
        "model_decisionTree = abr_decisionTree.fit(X_train, y_train)\n",
        "model_linearRegression = abr_linearRegression.fit(X_train, y_train)\n",
        "model_ransac = abr_ransac.fit(X_train, y_train)\n",
        "model_lgbm = abr_lgbm.fit(X_train, y_train)\n",
        "model_bayesianRidge = abr_bayesianRidge.fit(X_train, y_train)\n",
        "#Predict the response for test dataset\n",
        "y_pred_decisionTree = model_decisionTree.predict(X_test)\n",
        "y_pred_linearRegression = model_linearRegression.predict(X_test)\n",
        "y_pred_ransac = model_ransac.predict(X_test)\n",
        "y_pred_lgbm = model_lgbm.predict(X_test)\n",
        "y_pred_bayesianRidge = model_bayesianRidge.predict(X_test)"
      ],
      "metadata": {
        "id": "8Sg-o02Hkzzp"
      },
      "execution_count": null,
      "outputs": []
    },
    {
      "cell_type": "code",
      "source": [
        "# Model Accuracy, how often is the classifier correct?\n",
        "print(\"R2 for decision trees:\", r2_score(y_test,y_pred_decisionTree))\n",
        "print(\"R2 for lienar regression:\", r2_score(y_test,y_pred_linearRegression))\n",
        "print(\"R2 for ransac:\", r2_score(y_test,y_pred_ransac))\n",
        "print(\"R2 for lgbm:\", r2_score(y_test,y_pred_lgbm))\n",
        "print(\"R2 for bayeasian ridge:\", r2_score(y_test,y_pred_bayesianRidge))"
      ],
      "metadata": {
        "colab": {
          "base_uri": "https://localhost:8080/"
        },
        "outputId": "e31e8426-57cd-4a21-a660-f2d76dff9fd6",
        "id": "MPoKlVW8kzzq"
      },
      "execution_count": null,
      "outputs": [
        {
          "output_type": "stream",
          "name": "stdout",
          "text": [
            "R2 for decision trees: 0.364527741599325\n",
            "R2 for lienar regression: 0.496959865076943\n",
            "R2 for ransac: 0.46782963052038695\n",
            "R2 for lgbm: 0.9011629206368825\n",
            "R2 for bayeasian ridge: 0.4983294564355586\n"
          ]
        }
      ]
    },
    {
      "cell_type": "markdown",
      "source": [
        "# XGBoost Classifier"
      ],
      "metadata": {
        "id": "IdrGgp4oCA44"
      }
    },
    {
      "cell_type": "markdown",
      "source": [
        "## Iris"
      ],
      "metadata": {
        "id": "G6Gb-fp2I3Wj"
      }
    },
    {
      "cell_type": "code",
      "source": [
        "# Load data\n",
        "data = '/content/Iris.csv'\n",
        "df = pd.read_csv(data, sep=',')\n",
        "\n",
        "X = df.drop(['Id','Species'], axis=1)\n",
        "y = df['Species']"
      ],
      "metadata": {
        "id": "6mAO57iBCE-R"
      },
      "execution_count": null,
      "outputs": []
    },
    {
      "cell_type": "code",
      "source": [
        "# Split dataset into training set and test set\n",
        "X_train, X_test, y_train, y_test = train_test_split(X, y, test_size=0.3, random_state = 0)"
      ],
      "metadata": {
        "id": "CdpGq49YCFSV"
      },
      "execution_count": null,
      "outputs": []
    },
    {
      "cell_type": "code",
      "source": [
        "# Create adaboost classifer object\n",
        "xgb_model_gbtree = xgb.XGBClassifier(objective=\"multi:softprob\", random_state=0, booster='gbtree')\n",
        "xgb_model_dart = xgb.XGBClassifier(objective=\"multi:softprob\", random_state=0, booster='dart')\n",
        "xgb_model_gblinear = xgb.XGBClassifier(objective=\"multi:softprob\", random_state=0, booster='gblinear')\n",
        "\n",
        "# Train Adaboost Classifer\n",
        "model_gbtree = xgb_model_gbtree.fit(X_train, y_train)\n",
        "model_dart = xgb_model_dart.fit(X_train, y_train)\n",
        "model_gblinear = xgb_model_gblinear.fit(X_train, y_train)\n",
        "#Predict the response for test dataset\n",
        "y_pred_gbtree = model_gbtree.predict(X_test)\n",
        "y_pred_dart = model_dart.predict(X_test)\n",
        "y_pred_gblinear = model_gblinear.predict(X_test)"
      ],
      "metadata": {
        "id": "883XR4PwCHUq"
      },
      "execution_count": null,
      "outputs": []
    },
    {
      "cell_type": "code",
      "source": [
        "# Model Accuracy, how often is the classifier correct?\n",
        "print(\"Accuracy gbtree:\",metrics.accuracy_score(y_test, y_pred_gbtree))\n",
        "print(\"Accuracy dart:\",metrics.accuracy_score(y_test, y_pred_dart))\n",
        "print(\"Accuracy gblinear:\",metrics.accuracy_score(y_test, y_pred_gblinear))"
      ],
      "metadata": {
        "colab": {
          "base_uri": "https://localhost:8080/"
        },
        "id": "L9Wgm66VC9qd",
        "outputId": "e6f39430-4b48-47bf-f4ed-a906386cf3ca"
      },
      "execution_count": null,
      "outputs": [
        {
          "output_type": "stream",
          "name": "stdout",
          "text": [
            "Accuracy gbtree: 0.9777777777777777\n",
            "Accuracy dart: 0.9777777777777777\n",
            "Accuracy gblinear: 0.6\n"
          ]
        }
      ]
    },
    {
      "cell_type": "markdown",
      "source": [
        "## Mushrooms"
      ],
      "metadata": {
        "id": "EaPaQZ7lI7Vp"
      }
    },
    {
      "cell_type": "code",
      "source": [
        "# Load data\n",
        "data = '/content/mushrooms.csv'\n",
        "df = pd.read_csv(data, sep=',')\n",
        "\n",
        "X = df.drop(['class'], axis=1)\n",
        "y = df['class']\n",
        "col = ['cap-shape', 'cap-surface', 'cap-color', 'bruises', 'odor',\n",
        "       'gill-attachment', 'gill-spacing', 'gill-size', 'gill-color',\n",
        "       'stalk-shape', 'stalk-root', 'stalk-surface-above-ring',\n",
        "       'stalk-surface-below-ring', 'stalk-color-above-ring',\n",
        "       'stalk-color-below-ring', 'veil-type', 'veil-color', 'ring-number',\n",
        "       'ring-type', 'spore-print-color', 'population', 'habitat']"
      ],
      "metadata": {
        "id": "hERtebpsI9Zs"
      },
      "execution_count": 28,
      "outputs": []
    },
    {
      "cell_type": "code",
      "source": [
        "# Split dataset into training set and test set\n",
        "X_train, X_test, y_train, y_test = train_test_split(X, y, test_size=0.3, random_state = 0)"
      ],
      "metadata": {
        "id": "o_fzuVDsI9Zs"
      },
      "execution_count": 29,
      "outputs": []
    },
    {
      "cell_type": "code",
      "source": [
        "encoder = ce.OneHotEncoder(cols=col)\n",
        "X_train = encoder.fit_transform(X_train)\n",
        "X_test = encoder.transform(X_test)"
      ],
      "metadata": {
        "id": "gjkqLpAzJG9u"
      },
      "execution_count": 30,
      "outputs": []
    },
    {
      "cell_type": "code",
      "source": [
        "# Create adaboost classifer object\n",
        "xgb_model_gbtree = xgb.XGBClassifier(objective=\"binary:logistic\", random_state=0, booster='gbtree')\n",
        "xgb_model_dart = xgb.XGBClassifier(objective=\"binary:logistic\", random_state=0, booster='dart')\n",
        "xgb_model_gblinear = xgb.XGBClassifier(objective=\"binary:logistic\", random_state=0, booster='gblinear')\n",
        "\n",
        "# Train Adaboost Classifer\n",
        "model_gbtree = xgb_model_gbtree.fit(X_train, y_train)\n",
        "model_dart = xgb_model_dart.fit(X_train, y_train)\n",
        "model_gblinear = xgb_model_gblinear.fit(X_train, y_train)\n",
        "#Predict the response for test dataset\n",
        "y_pred_gbtree = model_gbtree.predict(X_test)\n",
        "y_pred_dart = model_dart.predict(X_test)\n",
        "y_pred_gblinear = model_gblinear.predict(X_test)"
      ],
      "metadata": {
        "id": "th9x1PvxhsVV"
      },
      "execution_count": 31,
      "outputs": []
    },
    {
      "cell_type": "code",
      "source": [
        "# Model Accuracy, how often is the classifier correct?\n",
        "print(\"Accuracy gbtree:\",metrics.accuracy_score(y_test, y_pred_gbtree))\n",
        "print(\"Accuracy dart:\",metrics.accuracy_score(y_test, y_pred_dart))\n",
        "print(\"Accuracy gblinear:\",metrics.accuracy_score(y_test, y_pred_gblinear))"
      ],
      "metadata": {
        "colab": {
          "base_uri": "https://localhost:8080/"
        },
        "outputId": "918c283d-5a14-4b77-d51e-d815c5d9d0b5",
        "id": "TAVMI3ADhsVa"
      },
      "execution_count": 32,
      "outputs": [
        {
          "output_type": "stream",
          "name": "stdout",
          "text": [
            "Accuracy gbtree: 1.0\n",
            "Accuracy dart: 1.0\n",
            "Accuracy gblinear: 0.896636587366694\n"
          ]
        }
      ]
    },
    {
      "cell_type": "markdown",
      "source": [
        "## Diamonds"
      ],
      "metadata": {
        "id": "dXtg95faY-A1"
      }
    },
    {
      "cell_type": "code",
      "source": [
        "# Load data\n",
        "data = '/content/diamonds.csv'\n",
        "df = pd.read_csv(data, sep=',')\n",
        "\n",
        "X = df.drop(['Unnamed: 0','cut'], axis=1)\n",
        "y = df['cut']"
      ],
      "metadata": {
        "id": "N141irpSZEGg"
      },
      "execution_count": null,
      "outputs": []
    },
    {
      "cell_type": "code",
      "source": [
        "# Split dataset into training set and test set\n",
        "X_train, X_test, y_train, y_test = train_test_split(X, y, test_size=0.3, random_state = 0)"
      ],
      "metadata": {
        "id": "2JzcRsfJZEGl"
      },
      "execution_count": null,
      "outputs": []
    },
    {
      "cell_type": "code",
      "source": [
        "encoder = ce.OneHotEncoder(cols=['color','clarity'])\n",
        "X_train = encoder.fit_transform(X_train)\n",
        "X_test = encoder.transform(X_test)"
      ],
      "metadata": {
        "id": "e3epjUJFZEGl"
      },
      "execution_count": null,
      "outputs": []
    },
    {
      "cell_type": "code",
      "source": [
        "# Create adaboost classifer object\n",
        "xgb_model_gbtree = xgb.XGBClassifier(objective=\"multi:softprob\", random_state=0, booster='gbtree')\n",
        "xgb_model_dart = xgb.XGBClassifier(objective=\"multi:softprob\", random_state=0, booster='dart')\n",
        "xgb_model_gblinear = xgb.XGBClassifier(objective=\"multi:softprob\", random_state=0, booster='gblinear')\n",
        "\n",
        "# Train Adaboost Classifer\n",
        "model_gbtree = xgb_model_gbtree.fit(X_train, y_train)\n",
        "model_dart = xgb_model_dart.fit(X_train, y_train)\n",
        "model_gblinear = xgb_model_gblinear.fit(X_train, y_train)\n",
        "#Predict the response for test dataset\n",
        "y_pred_gbtree = model_gbtree.predict(X_test)\n",
        "y_pred_dart = model_dart.predict(X_test)\n",
        "y_pred_gblinear = model_gblinear.predict(X_test)"
      ],
      "metadata": {
        "id": "KfNVypIeiBmP"
      },
      "execution_count": null,
      "outputs": []
    },
    {
      "cell_type": "code",
      "source": [
        "# Model Accuracy, how often is the classifier correct?\n",
        "print(\"Accuracy gbtree:\",metrics.accuracy_score(y_test, y_pred_gbtree))\n",
        "print(\"Accuracy dart:\",metrics.accuracy_score(y_test, y_pred_dart))\n",
        "print(\"Accuracy gblinear:\",metrics.accuracy_score(y_test, y_pred_gblinear))"
      ],
      "metadata": {
        "colab": {
          "base_uri": "https://localhost:8080/"
        },
        "outputId": "7d1fbc9f-f73b-4f16-ec08-55796087dbc9",
        "id": "xHOk-3I3iBmQ"
      },
      "execution_count": null,
      "outputs": [
        {
          "output_type": "stream",
          "name": "stdout",
          "text": [
            "Accuracy gbtree: 0.7440365838586084\n",
            "Accuracy dart: 0.7440365838586084\n",
            "Accuracy gblinear: 0.40050673587937213\n"
          ]
        }
      ]
    },
    {
      "cell_type": "markdown",
      "source": [
        "# XGBoost Regression"
      ],
      "metadata": {
        "id": "Jqi78Yp5Zw-x"
      }
    },
    {
      "cell_type": "markdown",
      "source": [
        "## Diamonds"
      ],
      "metadata": {
        "id": "s9u1DV0JZz7L"
      }
    },
    {
      "cell_type": "code",
      "source": [
        "# Load data\n",
        "data = '/content/diamonds.csv'\n",
        "df = pd.read_csv(data, sep=',')\n",
        "\n",
        "X = df.drop(['Unnamed: 0','price'], axis=1)\n",
        "y = df['price']"
      ],
      "metadata": {
        "id": "LBdnEf9nZ2Ey"
      },
      "execution_count": null,
      "outputs": []
    },
    {
      "cell_type": "code",
      "source": [
        "# Split dataset into training set and test set\n",
        "X_train, X_test, y_train, y_test = train_test_split(X, y, test_size=0.3, random_state = 0)"
      ],
      "metadata": {
        "id": "C16UdGxnZ2Ey"
      },
      "execution_count": null,
      "outputs": []
    },
    {
      "cell_type": "code",
      "source": [
        "encoder = ce.OneHotEncoder(cols=['cut','color','clarity'])\n",
        "X_train = encoder.fit_transform(X_train)\n",
        "X_test = encoder.transform(X_test)"
      ],
      "metadata": {
        "id": "XSteyoEMZ2Ey"
      },
      "execution_count": null,
      "outputs": []
    },
    {
      "cell_type": "code",
      "source": [
        "# Create adaboost classifer object\n",
        "xgb_model_gbtree = xgb.XGBRegressor(objective=\"reg:squarederror\", random_state=0, booster='gbtree')\n",
        "xgb_model_dart = xgb.XGBRegressor(objective=\"reg:squarederror\", random_state=0, booster='dart')\n",
        "xgb_model_gblinear = xgb.XGBRegressor(objective=\"reg:squarederror\", random_state=0, booster='gblinear')\n",
        "\n",
        "# Train Adaboost Classifer\n",
        "model_gbtree = xgb_model_gbtree.fit(X_train, y_train)\n",
        "model_dart = xgb_model_dart.fit(X_train, y_train)\n",
        "model_gblinear = xgb_model_gblinear.fit(X_train, y_train)\n",
        "#Predict the response for test dataset\n",
        "y_pred_gbtree = model_gbtree.predict(X_test)\n",
        "y_pred_dart = model_dart.predict(X_test)\n",
        "y_pred_gblinear = model_gblinear.predict(X_test)"
      ],
      "metadata": {
        "id": "fKGvGq1hmMW-"
      },
      "execution_count": null,
      "outputs": []
    },
    {
      "cell_type": "code",
      "source": [
        "# Model Accuracy, how often is the classifier correct?\n",
        "print(\"R2 gbtree:\", r2_score(y_test, y_pred_gbtree))\n",
        "print(\"R2 dart:\", r2_score(y_test, y_pred_dart))\n",
        "print(\"R2 gblinear:\", r2_score(y_test, y_pred_gblinear))"
      ],
      "metadata": {
        "id": "5I_mN--tmMW-",
        "colab": {
          "base_uri": "https://localhost:8080/"
        },
        "outputId": "50c752ca-0b58-4d09-bef2-1e392a7ecc71"
      },
      "execution_count": null,
      "outputs": [
        {
          "output_type": "stream",
          "name": "stdout",
          "text": [
            "R2 gbtree: 0.9648885057662463\n",
            "R2 dart: 0.9648885057654066\n",
            "R2 gblinear: 0.590974788833152\n"
          ]
        }
      ]
    },
    {
      "cell_type": "markdown",
      "source": [
        "## KC House data"
      ],
      "metadata": {
        "id": "Ngk6bxjzbruI"
      }
    },
    {
      "cell_type": "code",
      "source": [
        "# Load data\n",
        "data = '/content/kc_house_data.csv'\n",
        "df = pd.read_csv(data, sep=',')\n",
        "\n",
        "X = df.drop(['price','id','date'], axis=1)\n",
        "y = df['price']"
      ],
      "metadata": {
        "id": "7LYTSiIdbuF1"
      },
      "execution_count": null,
      "outputs": []
    },
    {
      "cell_type": "code",
      "source": [
        "# Split dataset into training set and test set\n",
        "X_train, X_test, y_train, y_test = train_test_split(X, y, test_size=0.3, random_state = 0)"
      ],
      "metadata": {
        "id": "xnBOPja4buF1"
      },
      "execution_count": null,
      "outputs": []
    },
    {
      "cell_type": "code",
      "source": [
        "# Create adaboost classifer object\n",
        "xgb_model_gbtree = xgb.XGBRegressor(objective=\"reg:squarederror\", random_state=0, booster='gbtree')\n",
        "xgb_model_dart = xgb.XGBRegressor(objective=\"reg:squarederror\", random_state=0, booster='dart')\n",
        "xgb_model_gblinear = xgb.XGBRegressor(objective=\"reg:squarederror\", random_state=0, booster='gblinear')\n",
        "\n",
        "# Train Adaboost Classifer\n",
        "model_gbtree = xgb_model_gbtree.fit(X_train, y_train)\n",
        "model_dart = xgb_model_dart.fit(X_train, y_train)\n",
        "model_gblinear = xgb_model_gblinear.fit(X_train, y_train)\n",
        "#Predict the response for test dataset\n",
        "y_pred_gbtree = model_gbtree.predict(X_test)\n",
        "y_pred_dart = model_dart.predict(X_test)\n",
        "y_pred_gblinear = model_gblinear.predict(X_test)"
      ],
      "metadata": {
        "id": "DhzxYTPXm7LM"
      },
      "execution_count": null,
      "outputs": []
    },
    {
      "cell_type": "code",
      "source": [
        "# Model Accuracy, how often is the classifier correct?\n",
        "print(\"R2 gbtree:\", r2_score(y_test, y_pred_gbtree))\n",
        "print(\"R2 dart:\", r2_score(y_test, y_pred_dart))\n",
        "print(\"R2 gblinear:\", r2_score(y_test, y_pred_gblinear))"
      ],
      "metadata": {
        "id": "8Ad8L1l7m7LN",
        "colab": {
          "base_uri": "https://localhost:8080/"
        },
        "outputId": "78be0ade-1529-400f-e9a2-b2d2c9609f3d"
      },
      "execution_count": null,
      "outputs": [
        {
          "output_type": "stream",
          "name": "stdout",
          "text": [
            "R2 gbtree: 0.8738780716898995\n",
            "R2 dart: 0.8738780733638998\n",
            "R2 gblinear: 0.5369681649015762\n"
          ]
        }
      ]
    }
  ]
}